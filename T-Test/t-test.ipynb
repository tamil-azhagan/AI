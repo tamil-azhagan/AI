{
 "cells": [
  {
   "cell_type": "code",
   "execution_count": 2,
   "id": "e2729900",
   "metadata": {},
   "outputs": [
    {
     "data": {
      "text/html": [
       "<div>\n",
       "<style scoped>\n",
       "    .dataframe tbody tr th:only-of-type {\n",
       "        vertical-align: middle;\n",
       "    }\n",
       "\n",
       "    .dataframe tbody tr th {\n",
       "        vertical-align: top;\n",
       "    }\n",
       "\n",
       "    .dataframe thead th {\n",
       "        text-align: right;\n",
       "    }\n",
       "</style>\n",
       "<table border=\"1\" class=\"dataframe\">\n",
       "  <thead>\n",
       "    <tr style=\"text-align: right;\">\n",
       "      <th></th>\n",
       "      <th>x</th>\n",
       "      <th>y</th>\n",
       "    </tr>\n",
       "  </thead>\n",
       "  <tbody>\n",
       "    <tr>\n",
       "      <th>0</th>\n",
       "      <td>1</td>\n",
       "      <td>90</td>\n",
       "    </tr>\n",
       "    <tr>\n",
       "      <th>1</th>\n",
       "      <td>2</td>\n",
       "      <td>80</td>\n",
       "    </tr>\n",
       "    <tr>\n",
       "      <th>2</th>\n",
       "      <td>3</td>\n",
       "      <td>70</td>\n",
       "    </tr>\n",
       "    <tr>\n",
       "      <th>3</th>\n",
       "      <td>4</td>\n",
       "      <td>22</td>\n",
       "    </tr>\n",
       "    <tr>\n",
       "      <th>4</th>\n",
       "      <td>5</td>\n",
       "      <td>42</td>\n",
       "    </tr>\n",
       "    <tr>\n",
       "      <th>5</th>\n",
       "      <td>6</td>\n",
       "      <td>83</td>\n",
       "    </tr>\n",
       "    <tr>\n",
       "      <th>6</th>\n",
       "      <td>7</td>\n",
       "      <td>25</td>\n",
       "    </tr>\n",
       "    <tr>\n",
       "      <th>7</th>\n",
       "      <td>8</td>\n",
       "      <td>85</td>\n",
       "    </tr>\n",
       "    <tr>\n",
       "      <th>8</th>\n",
       "      <td>9</td>\n",
       "      <td>90</td>\n",
       "    </tr>\n",
       "    <tr>\n",
       "      <th>9</th>\n",
       "      <td>10</td>\n",
       "      <td>23</td>\n",
       "    </tr>\n",
       "  </tbody>\n",
       "</table>\n",
       "</div>"
      ],
      "text/plain": [
       "    x   y\n",
       "0   1  90\n",
       "1   2  80\n",
       "2   3  70\n",
       "3   4  22\n",
       "4   5  42\n",
       "5   6  83\n",
       "6   7  25\n",
       "7   8  85\n",
       "8   9  90\n",
       "9  10  23"
      ]
     },
     "execution_count": 2,
     "metadata": {},
     "output_type": "execute_result"
    }
   ],
   "source": [
    "#t-test\n",
    "import pandas as pd\n",
    "import math\n",
    "df=pd.read_csv(r\"C:\\Users\\god\\Desktop\\AI_lab\\population.csv\")\n",
    "df"
   ]
  },
  {
   "cell_type": "code",
   "execution_count": 5,
   "id": "12033c99",
   "metadata": {},
   "outputs": [
    {
     "data": {
      "text/html": [
       "<div>\n",
       "<style scoped>\n",
       "    .dataframe tbody tr th:only-of-type {\n",
       "        vertical-align: middle;\n",
       "    }\n",
       "\n",
       "    .dataframe tbody tr th {\n",
       "        vertical-align: top;\n",
       "    }\n",
       "\n",
       "    .dataframe thead th {\n",
       "        text-align: right;\n",
       "    }\n",
       "</style>\n",
       "<table border=\"1\" class=\"dataframe\">\n",
       "  <thead>\n",
       "    <tr style=\"text-align: right;\">\n",
       "      <th></th>\n",
       "      <th>x</th>\n",
       "      <th>y</th>\n",
       "    </tr>\n",
       "  </thead>\n",
       "  <tbody>\n",
       "    <tr>\n",
       "      <th>0</th>\n",
       "      <td>1</td>\n",
       "      <td>90</td>\n",
       "    </tr>\n",
       "    <tr>\n",
       "      <th>1</th>\n",
       "      <td>2</td>\n",
       "      <td>80</td>\n",
       "    </tr>\n",
       "    <tr>\n",
       "      <th>2</th>\n",
       "      <td>3</td>\n",
       "      <td>70</td>\n",
       "    </tr>\n",
       "    <tr>\n",
       "      <th>6</th>\n",
       "      <td>7</td>\n",
       "      <td>25</td>\n",
       "    </tr>\n",
       "    <tr>\n",
       "      <th>7</th>\n",
       "      <td>8</td>\n",
       "      <td>85</td>\n",
       "    </tr>\n",
       "    <tr>\n",
       "      <th>8</th>\n",
       "      <td>9</td>\n",
       "      <td>90</td>\n",
       "    </tr>\n",
       "  </tbody>\n",
       "</table>\n",
       "</div>"
      ],
      "text/plain": [
       "   x   y\n",
       "0  1  90\n",
       "1  2  80\n",
       "2  3  70\n",
       "6  7  25\n",
       "7  8  85\n",
       "8  9  90"
      ]
     },
     "execution_count": 5,
     "metadata": {},
     "output_type": "execute_result"
    }
   ],
   "source": [
    "#sampling techniques\n",
    "sample1=df[df.y%5==0]\n",
    "sample1"
   ]
  },
  {
   "cell_type": "code",
   "execution_count": 6,
   "id": "14bae57f",
   "metadata": {},
   "outputs": [
    {
     "name": "stdout",
     "output_type": "stream",
     "text": [
      "The population mean is:  61.0\n"
     ]
    }
   ],
   "source": [
    "#pop_mean\n",
    "pop_mean=df[\"y\"].mean()\n",
    "print(\"The population mean is: \",pop_mean)"
   ]
  },
  {
   "cell_type": "code",
   "execution_count": 8,
   "id": "2dbf60a1",
   "metadata": {},
   "outputs": [
    {
     "name": "stdout",
     "output_type": "stream",
     "text": [
      "The sample mean is;  73.33333333333333\n"
     ]
    }
   ],
   "source": [
    "#sample_mean\n",
    "sample_mean=sample1[\"y\"].mean()\n",
    "print(\"The sample mean is; \",sample_mean)"
   ]
  },
  {
   "cell_type": "code",
   "execution_count": 10,
   "id": "6797d5fb",
   "metadata": {},
   "outputs": [
    {
     "name": "stdout",
     "output_type": "stream",
     "text": [
      "10.137937550497032\n"
     ]
    }
   ],
   "source": [
    "#s_xbar\n",
    "#s_bar=s/sqrt(n)\n",
    "#s=sqrt(ss/n-1)\n",
    "#ss=sum(x^2)+sum(x)**2/n\n",
    "#x-sample\n",
    "list1=[]\n",
    "for i in sample1[\"y\"]:\n",
    "    list1.append(i*i)\n",
    "    \n",
    "sum1=sum(list1)\n",
    "\n",
    "sum2=sample1[\"y\"].sum()\n",
    "sum2=sum2**2\n",
    "sum3=sum2/len(sample1)\n",
    "\n",
    "ss=sum1-sum3\n",
    "\n",
    "s=(math.sqrt(ss))/(math.sqrt(len(sample1)-1))\n",
    "\n",
    "s_bar=s/math.sqrt(len(sample1))\n",
    "\n",
    "print(s_bar)"
   ]
  },
  {
   "cell_type": "code",
   "execution_count": 11,
   "id": "d2a92a1d",
   "metadata": {},
   "outputs": [
    {
     "name": "stdout",
     "output_type": "stream",
     "text": [
      "t-value:  1.2165525060596436\n"
     ]
    }
   ],
   "source": [
    "#tvalue\n",
    "t_value=(sample_mean-pop_mean)/s_bar\n",
    "print(\"t-value: \",t_value)"
   ]
  }
 ],
 "metadata": {
  "kernelspec": {
   "display_name": "Python 3 (ipykernel)",
   "language": "python",
   "name": "python3"
  },
  "language_info": {
   "codemirror_mode": {
    "name": "ipython",
    "version": 3
   },
   "file_extension": ".py",
   "mimetype": "text/x-python",
   "name": "python",
   "nbconvert_exporter": "python",
   "pygments_lexer": "ipython3",
   "version": "3.11.4"
  }
 },
 "nbformat": 4,
 "nbformat_minor": 5
}
